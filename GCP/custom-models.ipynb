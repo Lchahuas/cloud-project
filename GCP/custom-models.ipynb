{
 "cells": [
  {
   "cell_type": "markdown",
   "id": "229cef71",
   "metadata": {},
   "source": [
    "---\n",
    "## Setup"
   ]
  },
  {
   "cell_type": "markdown",
   "id": "4b6b82e4",
   "metadata": {},
   "source": [
    "inputs:"
   ]
  },
  {
   "cell_type": "code",
   "execution_count": 1,
   "id": "63e4ffbd-4d77-4074-b84a-a9a10fe0b606",
   "metadata": {
    "tags": []
   },
   "outputs": [
    {
     "data": {
      "text/plain": [
       "'mlops-cloud-427521'"
      ]
     },
     "execution_count": 1,
     "metadata": {},
     "output_type": "execute_result"
    }
   ],
   "source": [
    "project = !gcloud config get-value project\n",
    "PROJECT_ID = project[0]\n",
    "PROJECT_ID"
   ]
  },
  {
   "cell_type": "code",
   "execution_count": 2,
   "id": "b255bf32",
   "metadata": {
    "tags": []
   },
   "outputs": [],
   "source": [
    "REGION = 'us-central1'\n",
    "DATANAME = 'heart'\n",
    "NOTEBOOK = '02c'\n",
    "\n",
    "# Resources\n",
    "DEPLOY_COMPUTE = 'n1-standard-2'\n",
    "\n",
    "# Model Training\n",
    "VAR_TARGET = 'HeartDisease'\n",
    "VAR_OMIT = 'transaction_id' # add more variables to the string with space delimiters"
   ]
  },
  {
   "cell_type": "markdown",
   "id": "00693f36",
   "metadata": {},
   "source": [
    "packages:"
   ]
  },
  {
   "cell_type": "code",
   "execution_count": 3,
   "id": "d1e6b18c-6deb-41dc-a632-8b305705eeec",
   "metadata": {
    "tags": []
   },
   "outputs": [],
   "source": [
    "!pip install -U google-cloud-pipeline-components -U -q"
   ]
  },
  {
   "cell_type": "code",
   "execution_count": 20,
   "id": "f3bf8620",
   "metadata": {
    "tags": []
   },
   "outputs": [],
   "source": [
    "from google.cloud import aiplatform\n",
    "from datetime import datetime\n",
    "import kfp\n",
    "from kfp import compiler, dsl#import kfp.v2.dsl as dsl\n",
    "#import google_cloud_pipeline_components as gcc_aip\n",
    "from google_cloud_pipeline_components.v1.dataset import TabularDatasetCreateOp\n",
    "from google_cloud_pipeline_components.v1.automl.training_job import AutoMLTabularTrainingJobRunOp\n",
    "from google_cloud_pipeline_components.v1.endpoint import EndpointCreateOp, ModelDeployOp\n",
    "\n",
    "from google.cloud import bigquery\n",
    "from google.protobuf import json_format\n",
    "from google.protobuf.struct_pb2 import Value\n",
    "import json\n",
    "import numpy as np\n",
    "from google.cloud import bigquery\n",
    "import pandas as pd\n",
    "from sklearn.ensemble import GradientBoostingClassifier\n",
    "from sklearn.model_selection import train_test_split\n",
    "from google.cloud import storage\n",
    "import joblib"
   ]
  },
  {
   "cell_type": "markdown",
   "id": "b01a4860",
   "metadata": {},
   "source": [
    "clients:"
   ]
  },
  {
   "cell_type": "code",
   "execution_count": 5,
   "id": "d0f88c50",
   "metadata": {
    "tags": []
   },
   "outputs": [
    {
     "data": {
      "text/plain": [
       "<google.cloud.bigquery.client.Client at 0x7fbc3f25b9d0>"
      ]
     },
     "execution_count": 5,
     "metadata": {},
     "output_type": "execute_result"
    }
   ],
   "source": [
    "aiplatform.init(project=PROJECT_ID, location=REGION)\n",
    "bq = bigquery.Client()\n",
    "bq"
   ]
  },
  {
   "cell_type": "markdown",
   "id": "8d14fbbc",
   "metadata": {},
   "source": [
    "parameters:"
   ]
  },
  {
   "cell_type": "code",
   "execution_count": 6,
   "id": "f65b2223",
   "metadata": {
    "tags": []
   },
   "outputs": [],
   "source": [
    "TIMESTAMP = datetime.now().strftime(\"%Y%m%d%H%M%S\")\n",
    "BUCKET = PROJECT_ID\n",
    "URI = f\"gs://{BUCKET}/{DATANAME}/models/{NOTEBOOK}\"\n",
    "DIR = f\"temp/{NOTEBOOK}\""
   ]
  },
  {
   "cell_type": "code",
   "execution_count": 7,
   "id": "2c68630e-4fe3-473d-abb3-16d39fb782e8",
   "metadata": {
    "tags": []
   },
   "outputs": [
    {
     "data": {
      "text/plain": [
       "'361807449633-compute@developer.gserviceaccount.com'"
      ]
     },
     "execution_count": 7,
     "metadata": {},
     "output_type": "execute_result"
    }
   ],
   "source": [
    "SERVICE_ACCOUNT = !gcloud config list --format='value(core.account)' \n",
    "SERVICE_ACCOUNT = SERVICE_ACCOUNT[0]\n",
    "SERVICE_ACCOUNT"
   ]
  },
  {
   "cell_type": "markdown",
   "id": "d1d35908-9b69-40be-97dc-fb4fb0279709",
   "metadata": {},
   "source": [
    "List the service accounts current roles:"
   ]
  },
  {
   "cell_type": "code",
   "execution_count": 8,
   "id": "a9f46306-bd55-425a-951a-fd2753807b91",
   "metadata": {
    "tags": []
   },
   "outputs": [
    {
     "name": "stdout",
     "output_type": "stream",
     "text": [
      "ROLE\n",
      "roles/editor\n"
     ]
    }
   ],
   "source": [
    "!gcloud projects get-iam-policy $PROJECT_ID --filter=\"bindings.members:$SERVICE_ACCOUNT\" --format='table(bindings.role)' --flatten=\"bindings[].members\""
   ]
  },
  {
   "cell_type": "markdown",
   "id": "e8343a71-3484-4352-9753-ec045cb6dfc5",
   "metadata": {},
   "source": [
    ">Note: If the resulting list is missing [roles/storage.objectAdmin](https://cloud.google.com/storage/docs/access-control/iam-roles) then [revisit the setup notebook](../00%20-%20Setup/00%20-%20Environment%20Setup.ipynb#permissions) and add this permission to the service account with the provided instructions."
   ]
  },
  {
   "cell_type": "markdown",
   "id": "10f15187",
   "metadata": {},
   "source": [
    "environment:"
   ]
  },
  {
   "cell_type": "code",
   "execution_count": 9,
   "id": "f7383876",
   "metadata": {
    "tags": []
   },
   "outputs": [],
   "source": [
    "!rm -rf {DIR}\n",
    "!mkdir -p {DIR}"
   ]
  },
  {
   "cell_type": "code",
   "execution_count": null,
   "id": "5c817f19-fa05-4aa3-9371-af13fd8d0196",
   "metadata": {},
   "outputs": [],
   "source": []
  },
  {
   "cell_type": "markdown",
   "id": "c08c3499",
   "metadata": {},
   "source": [
    "import google.cloud.aiplatform as aiplatform\n",
    "import kfp\n",
    "from kfp import compiler, dsl\n",
    "from kfp.dsl import Artifact, Dataset, Input, Metrics, Model, Output, component---\n",
    "## Pipeline (KFP) Definition\n",
    "- Flow\n",
    "    - Create Vertex AI Dataset from link to BigQuery table\n",
    "    - Create Vertex AI AutoML Tabular Training Job\n",
    "    - Create Endpoint and Depoy trained model\n",
    "    \n",
    "Use [AI Platform Pipeline Components](https://google-cloud-pipeline-components.readthedocs.io/en/google-cloud-pipeline-components-0.2.0/)\n",
    "- Specifically, [AutoMLTabularTrainingJobRunOp](https://google-cloud-pipeline-components.readthedocs.io/en/google-cloud-pipeline-components-0.2.0/google_cloud_pipeline_components.aiplatform.html#google_cloud_pipeline_components.aiplatform.AutoMLTabularTrainingJobRunOp)\n",
    "\n",
    "Define a Job:\n",
    "- Consider Weighting\n",
    "- Model Type\n",
    "- Optimization Objective"
   ]
  },
  {
   "cell_type": "code",
   "execution_count": 14,
   "id": "6b246f3f-693a-4396-bfac-53f7af138ac2",
   "metadata": {
    "tags": []
   },
   "outputs": [],
   "source": [
    "import google.cloud.aiplatform as aiplatform\n",
    "import kfp\n",
    "from kfp import compiler, dsl\n",
    "from kfp.dsl import Artifact, Dataset, Input, Metrics, Model, Output, component"
   ]
  },
  {
   "cell_type": "code",
   "execution_count": null,
   "id": "54e12183-57b1-4b19-9a7c-23b26c41a883",
   "metadata": {
    "tags": []
   },
   "outputs": [],
   "source": [
    "@component(\n",
    "    packages_to_install=[\n",
    "        \"xgboost==1.6.2\",\n",
    "        \"pandas==1.3.5\",\n",
    "        \"joblib==1.1.0\",\n",
    "        \"scikit-learn==1.0.2\",\n",
    "        \"gcsfs==2022.7.1\",  # Añadido para trabajar con GCS\n",
    "    ],\n",
    ")\n",
    "def xgboost_training(\n",
    "    model: Output[Model],\n",
    "    metrics: Output[Metrics],\n",
    "):\n",
    "    \"\"\"Trains an XGBoost classifier.\n",
    "\n",
    "    Args:\n",
    "        dataset: The training dataset.\n",
    "\n",
    "    Returns:\n",
    "        model: The model artifact stores the model.bst file.\n",
    "        metrics: The metrics of the trained model.\n",
    "    \"\"\"\n",
    "    import os\n",
    "\n",
    "    import joblib\n",
    "    import pandas as pd\n",
    "    import xgboost as xgb\n",
    "    from sklearn.metrics import (accuracy_score, precision_recall_curve,\n",
    "                                 roc_auc_score)\n",
    "    from sklearn.model_selection import (RandomizedSearchCV, StratifiedKFold,\n",
    "                                         train_test_split)\n",
    "    from sklearn.preprocessing import LabelEncoder\n",
    "\n",
    "    # Load the training census dataset\n",
    "    df = pd.read_csv(\"gs://mlops-cloud-427521/heart-failure/heart.csv\")\n",
    "\n",
    "    CATEGORICAL_COLUMNS = (\n",
    "        \"Sex\",\n",
    "        \"ChestPainType\",\n",
    "        \"RestingECG\",\n",
    "        \"ExerciseAngina\",\n",
    "        \"ST_Slope\"\n",
    "    )\n",
    "    LABEL_COLUMN = \"HeartDisease\"\n",
    "\n",
    "    # Convert data in categorical columns to numerical values\n",
    "    encoders = {col: LabelEncoder() for col in CATEGORICAL_COLUMNS}\n",
    "    for col in CATEGORICAL_COLUMNS:\n",
    "        df[col] = encoders[col].fit_transform(df[col])\n",
    "\n",
    "    X = df.drop(LABEL_COLUMN, axis=1)\n",
    "    y = df[LABEL_COLUMN]\n",
    "\n",
    "    X_train, X_test, y_train, y_test = train_test_split(X, y)\n",
    "\n",
    "    params = {\n",
    "        \"reg_lambda\": [0, 1],\n",
    "        \"gamma\": [1, 1.5, 2, 2.5, 3],\n",
    "        \"max_depth\": [2, 3, 4, 5, 10, 20],\n",
    "        \"learning_rate\": [0.1, 0.01],\n",
    "    }\n",
    "\n",
    "    xgb_model = xgb.XGBClassifier(\n",
    "        n_estimators=50,\n",
    "        objective=\"binary:hinge\",\n",
    "        silent=True,\n",
    "        nthread=1,\n",
    "        eval_metric=\"auc\",\n",
    "    )\n",
    "\n",
    "    folds = 5\n",
    "    param_comb = 20\n",
    "\n",
    "    skf = StratifiedKFold(n_splits=folds, shuffle=True, random_state=42)\n",
    "\n",
    "    random_search = RandomizedSearchCV(\n",
    "        xgb_model,\n",
    "        param_distributions=params,\n",
    "        n_iter=param_comb,\n",
    "        scoring=\"precision\",\n",
    "        n_jobs=4,\n",
    "        cv=skf.split(X_train, y_train),\n",
    "        verbose=4,\n",
    "        random_state=42,\n",
    "    )\n",
    "\n",
    "    random_search.fit(X_train, y_train)\n",
    "    xgb_model_best = random_search.best_estimator_\n",
    "    predictions = xgb_model_best.predict(X_test)\n",
    "    score = accuracy_score(y_test, predictions)\n",
    "    auc = roc_auc_score(y_test, predictions)\n",
    "    _ = precision_recall_curve(y_test, predictions)\n",
    "\n",
    "    metrics.log_metric(\"accuracy\", (score * 100.0))\n",
    "    metrics.log_metric(\"framework\", \"xgboost\")\n",
    "    metrics.log_metric(\"dataset_size\", len(df))\n",
    "    metrics.log_metric(\"AUC\", auc)\n",
    "\n",
    "    # Export the model to a file as .bst\n",
    "    os.makedirs(model.path, exist_ok=True)\n",
    "    joblib.dump(rf_model_best, os.path.join(model.path, \"model.joblib\"))\n"
   ]
  },
  {
   "cell_type": "code",
   "execution_count": null,
   "id": "5b5beb6c-354d-4059-ae55-c065f1c8620c",
   "metadata": {
    "tags": []
   },
   "outputs": [],
   "source": [
    "@component(\n",
    "    packages_to_install=[\n",
    "        \"pandas==1.3.5\",\n",
    "        \"joblib==1.1.0\",\n",
    "        \"scikit-learn==1.0.2\",\n",
    "        \"gcsfs==2022.7.1\",  # Añadido para trabajar con GCS\n",
    "    ],\n",
    ")\n",
    "def randomforest_training(\n",
    "    model: Output[Model],\n",
    "    metrics: Output[Metrics],\n",
    "):\n",
    "    \"\"\"Trains a RandomForest classifier.\n",
    "\n",
    "    Args:\n",
    "        dataset: The training dataset.\n",
    "\n",
    "    Returns:\n",
    "        model: The model artifact stores the model.joblib file.\n",
    "        metrics: The metrics of the trained model.\n",
    "    \"\"\"\n",
    "    import os\n",
    "\n",
    "    import joblib\n",
    "    import pandas as pd\n",
    "    from sklearn.ensemble import RandomForestClassifier\n",
    "    from sklearn.metrics import (accuracy_score, precision_recall_curve,\n",
    "                                 roc_auc_score)\n",
    "    from sklearn.model_selection import (RandomizedSearchCV, StratifiedKFold,\n",
    "                                         train_test_split)\n",
    "    from sklearn.preprocessing import LabelEncoder\n",
    "\n",
    "    # Load the training dataset\n",
    "    df = pd.read_csv(\"gs://mlops-cloud-427521/heart-failure/heart.csv\")\n",
    "\n",
    "    CATEGORICAL_COLUMNS = (\n",
    "        \"Sex\",\n",
    "        \"ChestPainType\",\n",
    "        \"RestingECG\",\n",
    "        \"ExerciseAngina\",\n",
    "        \"ST_Slope\"\n",
    "    )\n",
    "    LABEL_COLUMN = \"HeartDisease\"\n",
    "\n",
    "    # Convert data in categorical columns to numerical values\n",
    "    encoders = {col: LabelEncoder() for col in CATEGORICAL_COLUMNS}\n",
    "    for col in CATEGORICAL_COLUMNS:\n",
    "        df[col] = encoders[col].fit_transform(df[col])\n",
    "\n",
    "    X = df.drop(LABEL_COLUMN, axis=1)\n",
    "    y = df[LABEL_COLUMN]\n",
    "\n",
    "    X_train, X_test, y_train, y_test = train_test_split(X, y)\n",
    "\n",
    "    params = {\n",
    "        \"n_estimators\": [50, 100, 200],\n",
    "        \"max_depth\": [None, 10, 20, 30],\n",
    "        \"min_samples_split\": [2, 5, 10],\n",
    "        \"min_samples_leaf\": [1, 2, 4],\n",
    "    }\n",
    "\n",
    "    rf_model = RandomForestClassifier()\n",
    "\n",
    "    folds = 5\n",
    "    param_comb = 20\n",
    "\n",
    "    skf = StratifiedKFold(n_splits=folds, shuffle=True, random_state=42)\n",
    "\n",
    "    random_search = RandomizedSearchCV(\n",
    "        rf_model,\n",
    "        param_distributions=params,\n",
    "        n_iter=param_comb,\n",
    "        scoring=\"precision\",\n",
    "        n_jobs=4,\n",
    "        cv=skf.split(X_train, y_train),\n",
    "        verbose=4,\n",
    "        random_state=42,\n",
    "    )\n",
    "\n",
    "    random_search.fit(X_train, y_train)\n",
    "    rf_model_best = random_search.best_estimator_\n",
    "    predictions = rf_model_best.predict(X_test)\n",
    "    score = accuracy_score(y_test, predictions)\n",
    "    auc = roc_auc_score(y_test, predictions)\n",
    "    _ = precision_recall_curve(y_test, predictions)\n",
    "\n",
    "    metrics.log_metric(\"accuracy\", (score * 100.0))\n",
    "    metrics.log_metric(\"framework\", \"randomforest\")\n",
    "    metrics.log_metric(\"dataset_size\", len(df))\n",
    "    metrics.log_metric(\"AUC\", auc)\n",
    "\n",
    "    # Export the model to a file\n",
    "    os.makedirs(model.path, exist_ok=True)\n",
    "    joblib.dump(rf_model_best, os.path.join(model.path, \"model.joblib\"))\n"
   ]
  },
  {
   "cell_type": "code",
   "execution_count": null,
   "id": "268efb98-5add-480f-9860-9abe1fae8548",
   "metadata": {
    "tags": []
   },
   "outputs": [],
   "source": [
    "\n",
    "@component(\n",
    "    packages_to_install=[\"google-cloud-aiplatform==1.25.0\"],\n",
    ")\n",
    "def deploy_model(\n",
    "    model: Input[Model],\n",
    "    project_id: str,\n",
    "    serving_container_image_uri: str,\n",
    "    vertex_endpoint: Output[Artifact],\n",
    "    vertex_model: Output[Model],\n",
    "):\n",
    "    \"\"\"Deploys an XGBoost model to Vertex AI Endpoint.\n",
    "\n",
    "    Args:\n",
    "        model: The model to deploy.\n",
    "        project_id: The project ID of the Vertex AI Endpoint.\n",
    "\n",
    "    Returns:\n",
    "        vertex_endpoint: The deployed Vertex AI Endpoint.\n",
    "        vertex_model: The deployed Vertex AI Model.\n",
    "    \"\"\"\n",
    "    from google.cloud import aiplatform\n",
    "\n",
    "    aiplatform.init(project=project_id)\n",
    "\n",
    "    deployed_model = aiplatform.Model.upload(\n",
    "        display_name=\"census-demo-model\",\n",
    "        artifact_uri=model.uri,\n",
    "        serving_container_image_uri=serving_container_image_uri,\n",
    "    )\n",
    "    endpoint = deployed_model.deploy(machine_type=\"n1-standard-4\")\n",
    "\n",
    "    vertex_endpoint.uri = endpoint.resource_name\n",
    "    vertex_model.uri = deployed_model.resource_name"
   ]
  },
  {
   "cell_type": "code",
   "execution_count": 108,
   "id": "7d7c32bf-ef4c-48f7-b3ab-d3b3af40bff5",
   "metadata": {
    "tags": []
   },
   "outputs": [],
   "source": [
    "@dsl.pipeline(\n",
    "    name=\"census-demo-pipeline-randomforest\",\n",
    ")\n",
    "def pipeline():\n",
    "    # Paso 2: Tarea de entrenamiento RandomForest\n",
    "    training_task_randomforest = randomforest_training()\n",
    "    training_task_xgboost = xgboost_training()\n",
    "    # Paso 3: Desplegar el modelo en Vertex AI\n",
    "    deploy_task_xgboost = deploy_model(\n",
    "        project_id=PROJECT_ID,\n",
    "        model=training_task_xgboost.outputs[\"model\"],\n",
    "        serving_container_image_uri=\"us-docker.pkg.dev/vertex-ai/prediction/xgboost-cpu.1-6:latest\"\n",
    "    )\n",
    "    deploy_task_randomforest = deploy_model(\n",
    "        project_id=PROJECT_ID,\n",
    "        model=training_task_randomforest.outputs[\"model\"],\n",
    "        serving_container_image_uri=\"us-docker.pkg.dev/vertex-ai/prediction/sklearn-cpu.0-24:latest\"\n",
    "    )"
   ]
  },
  {
   "cell_type": "code",
   "execution_count": 109,
   "id": "af4638a7-5a7a-40de-a511-755df02ec9b2",
   "metadata": {
    "tags": []
   },
   "outputs": [],
   "source": [
    "compiler.Compiler().compile(pipeline_func=pipeline, package_path=\"pipeline.yaml\")\n"
   ]
  },
  {
   "cell_type": "code",
   "execution_count": 110,
   "id": "548d1a79-ce2c-4034-8ec9-534bc9c03a30",
   "metadata": {
    "tags": []
   },
   "outputs": [
    {
     "name": "stdout",
     "output_type": "stream",
     "text": [
      "Creating PipelineJob\n",
      "PipelineJob created. Resource name: projects/361807449633/locations/us-central1/pipelineJobs/census-demo-pipeline-randomforest-20240711182212\n",
      "To use this PipelineJob in another session:\n",
      "pipeline_job = aiplatform.PipelineJob.get('projects/361807449633/locations/us-central1/pipelineJobs/census-demo-pipeline-randomforest-20240711182212')\n",
      "View Pipeline Job:\n",
      "https://console.cloud.google.com/vertex-ai/locations/us-central1/pipelines/runs/census-demo-pipeline-randomforest-20240711182212?project=361807449633\n",
      "PipelineJob projects/361807449633/locations/us-central1/pipelineJobs/census-demo-pipeline-randomforest-20240711182212 current state:\n",
      "PipelineState.PIPELINE_STATE_RUNNING\n",
      "PipelineJob projects/361807449633/locations/us-central1/pipelineJobs/census-demo-pipeline-randomforest-20240711182212 current state:\n",
      "PipelineState.PIPELINE_STATE_RUNNING\n",
      "PipelineJob projects/361807449633/locations/us-central1/pipelineJobs/census-demo-pipeline-randomforest-20240711182212 current state:\n",
      "PipelineState.PIPELINE_STATE_RUNNING\n",
      "PipelineJob projects/361807449633/locations/us-central1/pipelineJobs/census-demo-pipeline-randomforest-20240711182212 current state:\n",
      "PipelineState.PIPELINE_STATE_RUNNING\n",
      "PipelineJob projects/361807449633/locations/us-central1/pipelineJobs/census-demo-pipeline-randomforest-20240711182212 current state:\n",
      "PipelineState.PIPELINE_STATE_RUNNING\n",
      "PipelineJob projects/361807449633/locations/us-central1/pipelineJobs/census-demo-pipeline-randomforest-20240711182212 current state:\n",
      "PipelineState.PIPELINE_STATE_RUNNING\n",
      "PipelineJob run completed. Resource name: projects/361807449633/locations/us-central1/pipelineJobs/census-demo-pipeline-randomforest-20240711182212\n"
     ]
    }
   ],
   "source": [
    "\n",
    "job = aiplatform.PipelineJob(\n",
    "    display_name=\"census-demo-pipeline\",\n",
    "    template_path=\"pipeline.yaml\"\n",
    ")\n",
    "\n",
    "job.run()"
   ]
  },
  {
   "cell_type": "code",
   "execution_count": 102,
   "id": "8792400a-7771-47a8-9eef-827a86fba856",
   "metadata": {
    "tags": []
   },
   "outputs": [],
   "source": [
    "endpoints = aiplatform.Endpoint.list()"
   ]
  },
  {
   "cell_type": "code",
   "execution_count": 103,
   "id": "29647ba5-f346-4480-8af0-2af22330ea75",
   "metadata": {
    "tags": []
   },
   "outputs": [
    {
     "data": {
      "text/plain": [
       "[<google.cloud.aiplatform.models.Endpoint object at 0x7fbc113f2380> \n",
       " resource name: projects/361807449633/locations/us-central1/endpoints/2716143365304352768,\n",
       " <google.cloud.aiplatform.models.Endpoint object at 0x7fbc11411510> \n",
       " resource name: projects/361807449633/locations/us-central1/endpoints/5077155469953335296,\n",
       " <google.cloud.aiplatform.models.Endpoint object at 0x7fbc11412f20> \n",
       " resource name: projects/361807449633/locations/us-central1/endpoints/2685744067819601920,\n",
       " <google.cloud.aiplatform.models.Endpoint object at 0x7fbc11410910> \n",
       " resource name: projects/361807449633/locations/us-central1/endpoints/5721170216667316224,\n",
       " <google.cloud.aiplatform.models.Endpoint object at 0x7fbc11411ab0> \n",
       " resource name: projects/361807449633/locations/us-central1/endpoints/4729252398738964480,\n",
       " <google.cloud.aiplatform.models.Endpoint object at 0x7fbc114111b0> \n",
       " resource name: projects/361807449633/locations/us-central1/endpoints/8543519808145063936,\n",
       " <google.cloud.aiplatform.models.Endpoint object at 0x7fbc11410820> \n",
       " resource name: projects/361807449633/locations/us-central1/endpoints/6633571353674907648,\n",
       " <google.cloud.aiplatform.models.Endpoint object at 0x7fbc11413610> \n",
       " resource name: projects/361807449633/locations/us-central1/endpoints/5480649849068060672,\n",
       " <google.cloud.aiplatform.models.Endpoint object at 0x7fbc11411270> \n",
       " resource name: projects/361807449633/locations/us-central1/endpoints/868963830640672768,\n",
       " <google.cloud.aiplatform.models.Endpoint object at 0x7fbc11413280> \n",
       " resource name: projects/361807449633/locations/us-central1/endpoints/1541126075025719296,\n",
       " <google.cloud.aiplatform.models.Endpoint object at 0x7fbc114137c0> \n",
       " resource name: projects/361807449633/locations/us-central1/endpoints/1653716065709981696,\n",
       " <google.cloud.aiplatform.models.Endpoint object at 0x7fbc11411ba0> \n",
       " resource name: projects/361807449633/locations/us-central1/endpoints/4999890588846260224,\n",
       " <google.cloud.aiplatform.models.Endpoint object at 0x7fbc114107f0> \n",
       " resource name: projects/361807449633/locations/us-central1/endpoints/5673178733138149376,\n",
       " <google.cloud.aiplatform.models.Endpoint object at 0x7fbc11411300> \n",
       " resource name: projects/361807449633/locations/us-central1/endpoints/5194424982125412352,\n",
       " <google.cloud.aiplatform.models.Endpoint object at 0x7fbc11410370> \n",
       " resource name: projects/361807449633/locations/us-central1/endpoints/6262903993719062528]"
      ]
     },
     "execution_count": 103,
     "metadata": {},
     "output_type": "execute_result"
    }
   ],
   "source": [
    "endpoints"
   ]
  },
  {
   "cell_type": "code",
   "execution_count": 104,
   "id": "ae11c6a3-d8f5-4007-859e-ac3dbb4b66ba",
   "metadata": {
    "tags": []
   },
   "outputs": [
    {
     "name": "stdout",
     "output_type": "stream",
     "text": [
      "Deleting Endpoint : projects/361807449633/locations/us-central1/endpoints/2716143365304352768\n",
      "Endpoint deleted. . Resource name: projects/361807449633/locations/us-central1/endpoints/2716143365304352768\n",
      "Deleting Endpoint resource: projects/361807449633/locations/us-central1/endpoints/2716143365304352768\n",
      "Delete Endpoint backing LRO: projects/361807449633/locations/us-central1/operations/7786405756344991744\n",
      "Endpoint resource projects/361807449633/locations/us-central1/endpoints/2716143365304352768 deleted.\n",
      "Deleting Endpoint : projects/361807449633/locations/us-central1/endpoints/5077155469953335296\n",
      "Endpoint deleted. . Resource name: projects/361807449633/locations/us-central1/endpoints/5077155469953335296\n",
      "Deleting Endpoint resource: projects/361807449633/locations/us-central1/endpoints/5077155469953335296\n",
      "Delete Endpoint backing LRO: projects/361807449633/locations/us-central1/operations/1535409473554743296\n",
      "Endpoint resource projects/361807449633/locations/us-central1/endpoints/5077155469953335296 deleted.\n",
      "Deleting Endpoint : projects/361807449633/locations/us-central1/endpoints/2685744067819601920\n",
      "Endpoint deleted. . Resource name: projects/361807449633/locations/us-central1/endpoints/2685744067819601920\n",
      "Deleting Endpoint resource: projects/361807449633/locations/us-central1/endpoints/2685744067819601920\n",
      "Delete Endpoint backing LRO: projects/361807449633/locations/us-central1/operations/2021798233310756864\n",
      "Endpoint resource projects/361807449633/locations/us-central1/endpoints/2685744067819601920 deleted.\n",
      "Undeploying Endpoint model: projects/361807449633/locations/us-central1/endpoints/5721170216667316224\n",
      "Undeploy Endpoint model backing LRO: projects/361807449633/locations/us-central1/endpoints/5721170216667316224/operations/6147095491982131200\n",
      "Endpoint model undeployed. Resource name: projects/361807449633/locations/us-central1/endpoints/5721170216667316224\n",
      "Deleting Endpoint : projects/361807449633/locations/us-central1/endpoints/5721170216667316224\n",
      "Endpoint deleted. . Resource name: projects/361807449633/locations/us-central1/endpoints/5721170216667316224\n",
      "Deleting Endpoint resource: projects/361807449633/locations/us-central1/endpoints/5721170216667316224\n",
      "Delete Endpoint backing LRO: projects/361807449633/locations/us-central1/operations/2571237387849957376\n",
      "Endpoint resource projects/361807449633/locations/us-central1/endpoints/5721170216667316224 deleted.\n",
      "Undeploying Endpoint model: projects/361807449633/locations/us-central1/endpoints/4729252398738964480\n",
      "Undeploy Endpoint model backing LRO: projects/361807449633/locations/us-central1/endpoints/4729252398738964480/operations/3403277419006656512\n",
      "Endpoint model undeployed. Resource name: projects/361807449633/locations/us-central1/endpoints/4729252398738964480\n",
      "Deleting Endpoint : projects/361807449633/locations/us-central1/endpoints/4729252398738964480\n",
      "Endpoint deleted. . Resource name: projects/361807449633/locations/us-central1/endpoints/4729252398738964480\n",
      "Deleting Endpoint resource: projects/361807449633/locations/us-central1/endpoints/4729252398738964480\n",
      "Delete Endpoint backing LRO: projects/361807449633/locations/us-central1/operations/3483216312392482816\n",
      "Endpoint resource projects/361807449633/locations/us-central1/endpoints/4729252398738964480 deleted.\n",
      "Undeploying Endpoint model: projects/361807449633/locations/us-central1/endpoints/8543519808145063936\n",
      "Undeploy Endpoint model backing LRO: projects/361807449633/locations/us-central1/endpoints/8543519808145063936/operations/1783107453060120576\n",
      "Endpoint model undeployed. Resource name: projects/361807449633/locations/us-central1/endpoints/8543519808145063936\n",
      "Deleting Endpoint : projects/361807449633/locations/us-central1/endpoints/8543519808145063936\n",
      "Endpoint deleted. . Resource name: projects/361807449633/locations/us-central1/endpoints/8543519808145063936\n",
      "Deleting Endpoint resource: projects/361807449633/locations/us-central1/endpoints/8543519808145063936\n",
      "Delete Endpoint backing LRO: projects/361807449633/locations/us-central1/operations/3843504282582122496\n",
      "Endpoint resource projects/361807449633/locations/us-central1/endpoints/8543519808145063936 deleted.\n"
     ]
    }
   ],
   "source": [
    "for i in range (6):\n",
    "    endpoints[i].undeploy_all()\n",
    "    endpoints[i].delete()"
   ]
  },
  {
   "cell_type": "code",
   "execution_count": 84,
   "id": "9a7fc0d8-6e87-4413-ac6f-ea33a80acf97",
   "metadata": {
    "tags": []
   },
   "outputs": [
    {
     "name": "stdout",
     "output_type": "stream",
     "text": [
      "Deleting Endpoint : projects/361807449633/locations/us-central1/endpoints/2914301748908654592\n",
      "Endpoint deleted. . Resource name: projects/361807449633/locations/us-central1/endpoints/2914301748908654592\n",
      "Deleting Endpoint resource: projects/361807449633/locations/us-central1/endpoints/2914301748908654592\n",
      "Delete Endpoint backing LRO: projects/361807449633/locations/us-central1/operations/2093855827348684800\n",
      "Endpoint resource projects/361807449633/locations/us-central1/endpoints/2914301748908654592 deleted.\n"
     ]
    }
   ],
   "source": [
    "endpoints[0].delete()"
   ]
  },
  {
   "cell_type": "code",
   "execution_count": 121,
   "id": "7121aac1-b1f7-447b-b398-5340cae12e86",
   "metadata": {
    "tags": []
   },
   "outputs": [],
   "source": [
    "download_from_gcs_op = components.load_component_from_url(\"https://raw.githubusercontent.com/GoogleCloudPlatform/vertex-ai-samples/399405402d95f4a011e2d2e967c96f8508ba5688/community-content/pipeline_components/google-cloud/storage/download/component.yaml\")\n",
    "select_columns_using_Pandas_on_CSV_data_op = components.load_component_from_url(\"https://raw.githubusercontent.com/GoogleCloudPlatform/vertex-ai-samples/399405402d95f4a011e2d2e967c96f8508ba5688/community-content/pipeline_components/pandas/Select_columns/in_CSV_format/component.yaml\")\n",
    "fill_all_missing_values_using_Pandas_on_CSV_data_op = components.load_component_from_url(\"https://raw.githubusercontent.com/GoogleCloudPlatform/vertex-ai-samples/399405402d95f4a011e2d2e967c96f8508ba5688/community-content/pipeline_components/pandas/Fill_all_missing_values/in_CSV_format/component.yaml\")\n",
    "binarize_column_using_Pandas_on_CSV_data_op = components.load_component_from_url(\"https://raw.githubusercontent.com/GoogleCloudPlatform/vertex-ai-samples/399405402d95f4a011e2d2e967c96f8508ba5688/community-content/pipeline_components/pandas/Binarize_column/in_CSV_format/component.yaml\")\n",
    "split_rows_into_subsets_op = components.load_component_from_url(\"https://raw.githubusercontent.com/GoogleCloudPlatform/vertex-ai-samples/399405402d95f4a011e2d2e967c96f8508ba5688/community-content/pipeline_components/dataset_manipulation/Split_rows_into_subsets/in_CSV/component.yaml\")\n",
    "train_XGBoost_model_on_CSV_op = components.load_component_from_url(\"https://raw.githubusercontent.com/GoogleCloudPlatform/vertex-ai-samples/399405402d95f4a011e2d2e967c96f8508ba5688/community-content/pipeline_components/XGBoost/Train/component.yaml\")\n",
    "xgboost_predict_on_CSV_op = components.load_component_from_url(\"https://raw.githubusercontent.com/GoogleCloudPlatform/vertex-ai-samples/399405402d95f4a011e2d2e967c96f8508ba5688/community-content/pipeline_components/XGBoost/Predict/component.yaml\")\n",
    "upload_XGBoost_model_to_Google_Cloud_Vertex_AI_op = components.load_component_from_url(\"https://raw.githubusercontent.com/GoogleCloudPlatform/vertex-ai-samples/399405402d95f4a011e2d2e967c96f8508ba5688/community-content/pipeline_components/google-cloud/Vertex_AI/Models/Upload_XGBoost_model/component.yaml\")\n",
    "deploy_model_to_endpoint_op = components.load_component_from_url(\"https://raw.githubusercontent.com/GoogleCloudPlatform/vertex-ai-samples/399405402d95f4a011e2d2e967c96f8508ba5688/community-content/pipeline_components/google-cloud/Vertex_AI/Models/Deploy_to_endpoint/component.yaml\")"
   ]
  },
  {
   "cell_type": "code",
   "execution_count": 102,
   "id": "ae814c70-0fc5-4478-b429-31f2557722e6",
   "metadata": {
    "tags": []
   },
   "outputs": [],
   "source": [
    "model_resource_name = aiplatform.Model.list(filter=f'display_name=\"{model_namea}\"')[0].resource_name\n"
   ]
  },
  {
   "cell_type": "markdown",
   "id": "4bd7cda6",
   "metadata": {},
   "source": [
    "---\n",
    "## Compile Pipeline"
   ]
  },
  {
   "cell_type": "code",
   "execution_count": 106,
   "id": "db3e8ce2",
   "metadata": {
    "tags": []
   },
   "outputs": [],
   "source": [
    "compiler.Compiler().compile(\n",
    "    pipeline_func = pipeline,\n",
    "    package_path = f\"{DIR}/{NOTEBOOK}.json\"\n",
    ")"
   ]
  },
  {
   "cell_type": "markdown",
   "id": "72d3a04e",
   "metadata": {},
   "source": [
    "Move compiled pipeline files to GCS Bucket"
   ]
  },
  {
   "cell_type": "code",
   "execution_count": 107,
   "id": "671d4cbe",
   "metadata": {
    "tags": []
   },
   "outputs": [
    {
     "name": "stdout",
     "output_type": "stream",
     "text": [
      "Copying file://temp/02c/02c.json [Content-Type=application/json]...\n",
      "/ [1 files][ 54.8 KiB/ 54.8 KiB]                                                \n",
      "Operation completed over 1 objects/54.8 KiB.                                     \n"
     ]
    }
   ],
   "source": [
    "!gsutil cp {DIR}/{NOTEBOOK}.json {URI}/{TIMESTAMP}/kfp/"
   ]
  },
  {
   "cell_type": "markdown",
   "id": "45241ff1",
   "metadata": {},
   "source": [
    "---\n",
    "## Create Vertex AI Pipeline Job"
   ]
  },
  {
   "cell_type": "markdown",
   "id": "9fed3319-fac1-45bb-9483-e02cfd4e0e3e",
   "metadata": {},
   "source": [
    "Get features dictionary for the pipeline input:"
   ]
  },
  {
   "cell_type": "markdown",
   "id": "0adf1a54-05f1-48f9-99e5-3de1c8f40bd5",
   "metadata": {},
   "source": [
    "Run The pipeline:"
   ]
  },
  {
   "cell_type": "markdown",
   "id": "6e4c8e67-bceb-4629-a246-6a6f18a1c530",
   "metadata": {},
   "source": [
    "Visual Representation of the pipeline can be viewed in the colsole:"
   ]
  },
  {
   "cell_type": "code",
   "execution_count": 22,
   "id": "bd262fe9-0693-446a-be88-779e15fb0809",
   "metadata": {
    "tags": []
   },
   "outputs": [
    {
     "name": "stdout",
     "output_type": "stream",
     "text": [
      "Review the Pipeline as it runs here:\n",
      "https://console.cloud.google.com/vertex-ai/locations/us-central1/pipelines/runs/kfp-02c-heart-20240626000834-20240626021255?project=mlops-cloud-427521\n"
     ]
    }
   ],
   "source": [
    "print(f\"Review the Pipeline as it runs here:\\nhttps://console.cloud.google.com/vertex-ai/locations/{REGION}/pipelines/runs/{pipeline.resource_name.split('/')[-1]}?project={PROJECT_ID}\")"
   ]
  },
  {
   "cell_type": "markdown",
   "id": "9d982aa6-2999-47f6-92a0-01510050e681",
   "metadata": {},
   "source": [
    "Retrieve the pipeline information:"
   ]
  },
  {
   "cell_type": "markdown",
   "id": "0523ffaa-9dfb-41cb-b7b5-6cc6ddae1613",
   "metadata": {
    "tags": []
   },
   "source": [
    "---\n",
    "## Evaluation\n",
    "While the model above was trained using AutoML with the API, it is still possible to review the evaluation metrics directly in the Google Cloud Console.  Just visit the Models section of Vertex AI service and select the model and it will present the evaluation metrics with many helpful visuals.\n",
    "\n",
    "It is also possible to retrieve the evaluation metrics for you model using the API.  This section shows how to use the API.\n",
    "\n",
    "<p align=\"center\" width=\"100%\"><center><a href=\"https://youtu.be/m_x3WBtr6y0\" target=\"_blank\" rel=\"noopener noreferrer\"><img src=\"../architectures/thumbnails/playbutton/02c.png\" width=\"40%\"></a></center></p>\n",
    "<p align=\"center\" width=\"100%\"><center>Part 2 Video</center></p>\n",
    "\n",
    "Notes Since Video:\n",
    "- update notebook on 8/31/2022 to:\n",
    "    - make the pipeline run with input parameters rather than using local variable in the pipeline definition\n",
    "    - update the model evaluation section to show update Python Client methods for metric retrieval\n",
    "\n",
    "For more information review [this page](https://cloud.google.com/vertex-ai/docs/training/evaluating-automl-models)."
   ]
  },
  {
   "cell_type": "markdown",
   "id": "27b1c3f1",
   "metadata": {},
   "source": [
    "Get the Model:"
   ]
  },
  {
   "cell_type": "code",
   "execution_count": 114,
   "id": "b6634c0d",
   "metadata": {
    "tags": []
   },
   "outputs": [],
   "source": [
    "models = aiplatform.Model.list(filter=f'labels.notebook={NOTEBOOK}')"
   ]
  },
  {
   "cell_type": "code",
   "execution_count": 115,
   "id": "a4f7b61b-ad0f-487b-8dc6-ac8ed12e6afb",
   "metadata": {
    "tags": []
   },
   "outputs": [
    {
     "data": {
      "text/plain": [
       "'projects/361807449633/locations/us-central1/models/2108292655539552256'"
      ]
     },
     "execution_count": 115,
     "metadata": {},
     "output_type": "execute_result"
    }
   ],
   "source": [
    "model = models[0]\n",
    "model.resource_name"
   ]
  },
  {
   "cell_type": "markdown",
   "id": "71227e04-8bb0-46d5-862e-3fddfe0361ae",
   "metadata": {},
   "source": [
    "Retrives the aggregate model evalution metrics for the model as a whole.  \n",
    "\n",
    "Either:\n",
    "- First, use `model.list_model_evaluations()` to retrieve the evaluation id, then use `model.get_model_evaluation(evaluation_id = )` for the evaluation id\n",
    "- Or, use `.get_model_evaluation()` and it will retrieve the first model evaluation"
   ]
  },
  {
   "cell_type": "code",
   "execution_count": 116,
   "id": "b7b5d7e0-6ef5-4787-a5d0-953848318989",
   "metadata": {
    "tags": []
   },
   "outputs": [
    {
     "data": {
      "text/html": [
       "\n",
       "        \n",
       "    <link rel=\"stylesheet\" href=\"https://fonts.googleapis.com/icon?family=Material+Icons\">\n",
       "    <style>\n",
       "      .view-vertex-resource,\n",
       "      .view-vertex-resource:hover,\n",
       "      .view-vertex-resource:visited {\n",
       "        position: relative;\n",
       "        display: inline-flex;\n",
       "        flex-direction: row;\n",
       "        height: 32px;\n",
       "        padding: 0 12px;\n",
       "          margin: 4px 18px;\n",
       "        gap: 4px;\n",
       "        border-radius: 4px;\n",
       "\n",
       "        align-items: center;\n",
       "        justify-content: center;\n",
       "        background-color: rgb(255, 255, 255);\n",
       "        color: rgb(51, 103, 214);\n",
       "\n",
       "        font-family: Roboto,\"Helvetica Neue\",sans-serif;\n",
       "        font-size: 13px;\n",
       "        font-weight: 500;\n",
       "        text-transform: uppercase;\n",
       "        text-decoration: none !important;\n",
       "\n",
       "        transition: box-shadow 280ms cubic-bezier(0.4, 0, 0.2, 1) 0s;\n",
       "        box-shadow: 0px 3px 1px -2px rgba(0,0,0,0.2), 0px 2px 2px 0px rgba(0,0,0,0.14), 0px 1px 5px 0px rgba(0,0,0,0.12);\n",
       "      }\n",
       "      .view-vertex-resource:active {\n",
       "        box-shadow: 0px 5px 5px -3px rgba(0,0,0,0.2),0px 8px 10px 1px rgba(0,0,0,0.14),0px 3px 14px 2px rgba(0,0,0,0.12);\n",
       "      }\n",
       "      .view-vertex-resource:active .view-vertex-ripple::before {\n",
       "        position: absolute;\n",
       "        top: 0;\n",
       "        bottom: 0;\n",
       "        left: 0;\n",
       "        right: 0;\n",
       "        border-radius: 4px;\n",
       "        pointer-events: none;\n",
       "\n",
       "        content: '';\n",
       "        background-color: rgb(51, 103, 214);\n",
       "        opacity: 0.12;\n",
       "      }\n",
       "      .view-vertex-icon {\n",
       "        font-size: 18px;\n",
       "      }\n",
       "    </style>\n",
       "  \n",
       "        <a class=\"view-vertex-resource\" id=\"view-vertex-resource-c1a47ce4-22de-4ac0-ba43-c8884de6b967\" href=\"#view-view-vertex-resource-c1a47ce4-22de-4ac0-ba43-c8884de6b967\">\n",
       "          <span class=\"material-icons view-vertex-icon\">model_training</span>\n",
       "          <span>View Model Evaluation</span>\n",
       "        </a>\n",
       "        \n",
       "        <script>\n",
       "          (function () {\n",
       "            const link = document.getElementById('view-vertex-resource-c1a47ce4-22de-4ac0-ba43-c8884de6b967');\n",
       "            link.addEventListener('click', (e) => {\n",
       "              if (window.google?.colab?.openUrl) {\n",
       "                window.google.colab.openUrl('https://console.cloud.google.com/vertex-ai/models/locations/us-central1/models/2108292655539552256/versions/1/evaluations/5453157553430209944?project=361807449633');\n",
       "              } else {\n",
       "                window.open('https://console.cloud.google.com/vertex-ai/models/locations/us-central1/models/2108292655539552256/versions/1/evaluations/5453157553430209944?project=361807449633', '_blank');\n",
       "              }\n",
       "              e.stopPropagation();\n",
       "              e.preventDefault();\n",
       "            });\n",
       "          })();\n",
       "        </script>\n",
       "    "
      ],
      "text/plain": [
       "<IPython.core.display.HTML object>"
      ]
     },
     "metadata": {},
     "output_type": "display_data"
    }
   ],
   "source": [
    "evaluation = model.get_model_evaluation().to_dict() # get first evaluation"
   ]
  },
  {
   "cell_type": "code",
   "execution_count": 136,
   "id": "35848c5d-d9af-4109-abd5-f093adba2acc",
   "metadata": {
    "tags": []
   },
   "outputs": [
    {
     "data": {
      "text/plain": [
       "dict_keys(['name', 'metricsSchemaUri', 'metrics', 'createTime', 'sliceDimensions', 'modelExplanation'])"
      ]
     },
     "execution_count": 136,
     "metadata": {},
     "output_type": "execute_result"
    }
   ],
   "source": [
    "evaluation.keys()"
   ]
  },
  {
   "cell_type": "code",
   "execution_count": 36,
   "id": "1763abbd-d2f4-430a-9a03-9e5af413b82a",
   "metadata": {},
   "outputs": [
    {
     "data": {
      "text/plain": [
       "dict_keys(['confusionMatrix', 'confidenceMetrics', 'auPrc', 'auRoc', 'logLoss'])"
      ]
     },
     "execution_count": 36,
     "metadata": {},
     "output_type": "execute_result"
    }
   ],
   "source": [
    "evaluation['metrics'].keys()"
   ]
  },
  {
   "cell_type": "code",
   "execution_count": 137,
   "id": "a562dcf6-02af-4185-96be-5b8b77a5cfd7",
   "metadata": {
    "tags": []
   },
   "outputs": [
    {
     "data": {
      "text/plain": [
       "0.99590755"
      ]
     },
     "execution_count": 137,
     "metadata": {},
     "output_type": "execute_result"
    }
   ],
   "source": [
    "evaluation['metrics']['auPrc']"
   ]
  },
  {
   "cell_type": "code",
   "execution_count": 138,
   "id": "45bd1c4b-00a3-4b2c-95a0-bb837307f8a0",
   "metadata": {
    "tags": []
   },
   "outputs": [
    {
     "data": {
      "text/plain": [
       "{'precisionAt1': 0.98203593,\n",
       " 'falsePositiveCount': '115',\n",
       " 'trueNegativeCount': '52',\n",
       " 'f1ScoreMicro': 0.7438753,\n",
       " 'confusionMatrix': {'rows': [[82.0, 1.0, 0.0],\n",
       "   [2.0, 82.0, 0.0],\n",
       "   [0.0, 0.0, 0.0]],\n",
       "  'annotationSpecs': [{'id': '0', 'displayName': '1'},\n",
       "   {'id': '1', 'displayName': '0'},\n",
       "   {'id': 'DROPPED', 'displayName': 'DROPPED'}]},\n",
       " 'falsePositiveRate': 0.6886228,\n",
       " 'falsePositiveRateAt1': 0.017964073,\n",
       " 'f1ScoreAt1': 0.98203593,\n",
       " 'confidenceThreshold': 0.01,\n",
       " 'recallAt1': 0.98203593,\n",
       " 'f1ScoreMacro': 0.74388885,\n",
       " 'truePositiveCount': '167',\n",
       " 'f1Score': 0.7438753,\n",
       " 'precision': 0.5921986,\n",
       " 'recall': 1.0}"
      ]
     },
     "execution_count": 138,
     "metadata": {},
     "output_type": "execute_result"
    }
   ],
   "source": [
    "evaluation['metrics']['confidenceMetrics'][3]"
   ]
  },
  {
   "cell_type": "markdown",
   "id": "39aa9551-2e4a-4673-b0d5-1ddec1233e0e",
   "metadata": {},
   "source": [
    "Review several of the metrics included in the evaluation.  Also, compare these to the results in the console view."
   ]
  },
  {
   "cell_type": "code",
   "execution_count": 139,
   "id": "bedd8a0e-cb68-4c45-bb58-c8622b9b0a96",
   "metadata": {
    "tags": []
   },
   "outputs": [
    {
     "name": "stdout",
     "output_type": "stream",
     "text": [
      "Review this model in the console:\n",
      "https://console.cloud.google.com/vertex-ai/locations/us-central1/models/5660542046000119808/versions/1/evaluations/6268549179005485699?project=mlops-cloud-427521\n"
     ]
    }
   ],
   "source": [
    "print(f\"Review this model in the console:\\nhttps://console.cloud.google.com/vertex-ai/locations/{REGION}/models/{model.name}/versions/{model.version_id}/evaluations/{evaluation['name'].split('/')[-1]}?project={PROJECT_ID}\")"
   ]
  },
  {
   "cell_type": "code",
   "execution_count": 140,
   "id": "8dd6e04f-c0ec-4ad1-a8be-460cddcb0267",
   "metadata": {
    "tags": []
   },
   "outputs": [
    {
     "data": {
      "text/plain": [
       "0.99590755"
      ]
     },
     "execution_count": 140,
     "metadata": {},
     "output_type": "execute_result"
    }
   ],
   "source": [
    "evaluation['metrics']['auPrc']"
   ]
  },
  {
   "cell_type": "code",
   "execution_count": 141,
   "id": "edd9892b-eeac-4a64-aa9b-68a7a45a3e76",
   "metadata": {
    "tags": []
   },
   "outputs": [
    {
     "name": "stdout",
     "output_type": "stream",
     "text": [
      "True Label =  1  has Predicted labels =  [82.0, 1.0, 0.0]\n",
      "True Label =  0  has Predicted labels =  [2.0, 82.0, 0.0]\n",
      "True Label =  DROPPED  has Predicted labels =  [0.0, 0.0, 0.0]\n"
     ]
    }
   ],
   "source": [
    "for i in range(len(evaluation['metrics']['confusionMatrix']['annotationSpecs'])):\n",
    "    print('True Label = ', evaluation['metrics']['confusionMatrix']['annotationSpecs'][i]['displayName'], ' has Predicted labels = ', evaluation['metrics']['confusionMatrix']['rows'][i])"
   ]
  },
  {
   "cell_type": "markdown",
   "id": "2266afe6-be3f-4565-afd9-cb839682df2c",
   "metadata": {},
   "source": [
    "For models with labels you can retrieve the evaluation metrics for each slice of the model as well using the .gapic api version:"
   ]
  },
  {
   "cell_type": "code",
   "execution_count": 142,
   "id": "703ce330-8b74-44ff-a71f-f7670a1d924f",
   "metadata": {
    "tags": []
   },
   "outputs": [],
   "source": [
    "model_client = aiplatform.gapic.ModelServiceClient(\n",
    "    client_options = {\n",
    "        'api_endpoint' : f'{REGION}-aiplatform.googleapis.com'\n",
    "    }\n",
    ")"
   ]
  },
  {
   "cell_type": "code",
   "execution_count": 143,
   "id": "045a6f0d-ab29-4825-a29e-335f5a1727e1",
   "metadata": {
    "tags": []
   },
   "outputs": [],
   "source": [
    "slices = model_client.list_model_evaluation_slices(parent = evaluation['name'])"
   ]
  },
  {
   "cell_type": "code",
   "execution_count": 144,
   "id": "4b7b5c5a-d43c-4c77-8806-fa92f6438e19",
   "metadata": {
    "tags": []
   },
   "outputs": [
    {
     "name": "stdout",
     "output_type": "stream",
     "text": [
      "Label =  0 has auPrc =  0.9958107\n",
      "Label =  1 has auPrc =  0.9955564\n"
     ]
    }
   ],
   "source": [
    "for slice in slices:\n",
    "    print('Label = ', slice.slice_.value, 'has auPrc = ', slice.metrics['auPrc'])"
   ]
  },
  {
   "cell_type": "markdown",
   "id": "3829782e",
   "metadata": {},
   "source": [
    "---\n",
    "## Prediction"
   ]
  },
  {
   "cell_type": "markdown",
   "id": "0269e25d",
   "metadata": {},
   "source": [
    "### Prepare a record for prediction: instance and parameters lists"
   ]
  },
  {
   "cell_type": "code",
   "execution_count": 145,
   "id": "5bda8542",
   "metadata": {
    "tags": []
   },
   "outputs": [
    {
     "name": "stderr",
     "output_type": "stream",
     "text": [
      "/opt/conda/lib/python3.10/site-packages/google/cloud/bigquery/table.py:2309: UserWarning: Unable to represent RANGE schema as struct using pandas ArrowDtype. Using `object` instead. To use ArrowDtype, use pandas >= 1.5 and pyarrow >= 10.0.1.\n",
      "  warnings.warn(_RANGE_PYARROW_WARNING)\n",
      "/opt/conda/lib/python3.10/site-packages/google/cloud/bigquery/table.py:2323: UserWarning: Unable to represent RANGE schema as struct using pandas ArrowDtype. Using `object` instead. To use ArrowDtype, use pandas >= 1.5 and pyarrow >= 10.0.1.\n",
      "  warnings.warn(_RANGE_PYARROW_WARNING)\n",
      "/opt/conda/lib/python3.10/site-packages/google/cloud/bigquery/table.py:2337: UserWarning: Unable to represent RANGE schema as struct using pandas ArrowDtype. Using `object` instead. To use ArrowDtype, use pandas >= 1.5 and pyarrow >= 10.0.1.\n",
      "  warnings.warn(_RANGE_PYARROW_WARNING)\n"
     ]
    }
   ],
   "source": [
    "pred = bq.query(\n",
    "    query = f\"\"\"\n",
    "        SELECT * EXCEPT({VAR_TARGET}, splits, {VAR_OMIT})\n",
    "        FROM {DATANAME}.{DATANAME}_prepped\n",
    "        WHERE splits='TEST'\n",
    "        LIMIT 10\n",
    "    \"\"\"\n",
    ").to_dataframe()"
   ]
  },
  {
   "cell_type": "code",
   "execution_count": 146,
   "id": "bb5a77b7",
   "metadata": {
    "tags": []
   },
   "outputs": [
    {
     "data": {
      "text/html": [
       "<div>\n",
       "<style scoped>\n",
       "    .dataframe tbody tr th:only-of-type {\n",
       "        vertical-align: middle;\n",
       "    }\n",
       "\n",
       "    .dataframe tbody tr th {\n",
       "        vertical-align: top;\n",
       "    }\n",
       "\n",
       "    .dataframe thead th {\n",
       "        text-align: right;\n",
       "    }\n",
       "</style>\n",
       "<table border=\"1\" class=\"dataframe\">\n",
       "  <thead>\n",
       "    <tr style=\"text-align: right;\">\n",
       "      <th></th>\n",
       "      <th>Age</th>\n",
       "      <th>Sex</th>\n",
       "      <th>ChestPainType</th>\n",
       "      <th>RestingBP</th>\n",
       "      <th>Cholesterol</th>\n",
       "      <th>FastingBS</th>\n",
       "      <th>RestingECG</th>\n",
       "      <th>MaxHR</th>\n",
       "      <th>ExerciseAngina</th>\n",
       "      <th>Oldpeak</th>\n",
       "      <th>ST_Slope</th>\n",
       "    </tr>\n",
       "  </thead>\n",
       "  <tbody>\n",
       "    <tr>\n",
       "      <th>0</th>\n",
       "      <td>61</td>\n",
       "      <td>M</td>\n",
       "      <td>NAP</td>\n",
       "      <td>200</td>\n",
       "      <td>0</td>\n",
       "      <td>1</td>\n",
       "      <td>ST</td>\n",
       "      <td>70</td>\n",
       "      <td>False</td>\n",
       "      <td>0.0</td>\n",
       "      <td>Flat</td>\n",
       "    </tr>\n",
       "    <tr>\n",
       "      <th>1</th>\n",
       "      <td>62</td>\n",
       "      <td>M</td>\n",
       "      <td>ASY</td>\n",
       "      <td>115</td>\n",
       "      <td>0</td>\n",
       "      <td>1</td>\n",
       "      <td>Normal</td>\n",
       "      <td>72</td>\n",
       "      <td>True</td>\n",
       "      <td>-0.5</td>\n",
       "      <td>Flat</td>\n",
       "    </tr>\n",
       "    <tr>\n",
       "      <th>2</th>\n",
       "      <td>55</td>\n",
       "      <td>M</td>\n",
       "      <td>ASY</td>\n",
       "      <td>172</td>\n",
       "      <td>260</td>\n",
       "      <td>0</td>\n",
       "      <td>Normal</td>\n",
       "      <td>73</td>\n",
       "      <td>False</td>\n",
       "      <td>2.0</td>\n",
       "      <td>Flat</td>\n",
       "    </tr>\n",
       "    <tr>\n",
       "      <th>3</th>\n",
       "      <td>52</td>\n",
       "      <td>M</td>\n",
       "      <td>ASY</td>\n",
       "      <td>160</td>\n",
       "      <td>246</td>\n",
       "      <td>0</td>\n",
       "      <td>ST</td>\n",
       "      <td>82</td>\n",
       "      <td>True</td>\n",
       "      <td>4.0</td>\n",
       "      <td>Flat</td>\n",
       "    </tr>\n",
       "  </tbody>\n",
       "</table>\n",
       "</div>"
      ],
      "text/plain": [
       "   Age Sex ChestPainType  RestingBP  Cholesterol  FastingBS RestingECG  MaxHR  \\\n",
       "0   61   M           NAP        200            0          1         ST     70   \n",
       "1   62   M           ASY        115            0          1     Normal     72   \n",
       "2   55   M           ASY        172          260          0     Normal     73   \n",
       "3   52   M           ASY        160          246          0         ST     82   \n",
       "\n",
       "   ExerciseAngina  Oldpeak ST_Slope  \n",
       "0           False      0.0     Flat  \n",
       "1            True     -0.5     Flat  \n",
       "2           False      2.0     Flat  \n",
       "3            True      4.0     Flat  "
      ]
     },
     "execution_count": 146,
     "metadata": {},
     "output_type": "execute_result"
    }
   ],
   "source": [
    "pred.head(4)"
   ]
  },
  {
   "cell_type": "code",
   "execution_count": 147,
   "id": "4c32ed6b",
   "metadata": {
    "tags": []
   },
   "outputs": [
    {
     "data": {
      "text/plain": [
       "{'Age': '61',\n",
       " 'Sex': 'M',\n",
       " 'ChestPainType': 'NAP',\n",
       " 'RestingBP': '200',\n",
       " 'Cholesterol': '0',\n",
       " 'FastingBS': '1',\n",
       " 'RestingECG': 'ST',\n",
       " 'MaxHR': '70',\n",
       " 'ExerciseAngina': False,\n",
       " 'Oldpeak': 0.0,\n",
       " 'ST_Slope': 'Flat'}"
      ]
     },
     "execution_count": 147,
     "metadata": {},
     "output_type": "execute_result"
    }
   ],
   "source": [
    "pred['Age'] = pred['Age'].astype(str)\n",
    "pred['RestingBP'] = pred['RestingBP'].astype(str)\n",
    "pred['Cholesterol'] = pred['Cholesterol'].astype(str)\n",
    "pred['FastingBS'] = pred['FastingBS'].astype(str)\n",
    "pred['MaxHR'] = pred['MaxHR'].astype(str)\n",
    "pred['Oldpeak'] = pred['Oldpeak'].astype(float)\n",
    "newobs = pred.to_dict(orient='records')\n",
    "newobs[0]"
   ]
  },
  {
   "cell_type": "markdown",
   "id": "c2fde74e",
   "metadata": {},
   "source": [
    "Need to understand the format of variables that the predictions expect.  AutoML may convert the type of some variables. The following cells retrieve the model from the endpoint and its schemata:"
   ]
  },
  {
   "cell_type": "code",
   "execution_count": 148,
   "id": "d438383e",
   "metadata": {
    "tags": []
   },
   "outputs": [],
   "source": [
    "instances = [json_format.ParseDict(newob, Value()) for newob in newobs]"
   ]
  },
  {
   "cell_type": "markdown",
   "id": "ec61f206",
   "metadata": {},
   "source": [
    "### Get Predictions: Python Client"
   ]
  },
  {
   "cell_type": "code",
   "execution_count": 149,
   "id": "116fefd9-e7c7-4971-8e6b-d630469f2330",
   "metadata": {
    "tags": []
   },
   "outputs": [
    {
     "data": {
      "text/plain": [
       "[<google.cloud.aiplatform.models.Endpoint object at 0x7f1210ba4a60> \n",
       " resource name: projects/361807449633/locations/us-central1/endpoints/5194424982125412352,\n",
       " <google.cloud.aiplatform.models.Endpoint object at 0x7f12108c59f0> \n",
       " resource name: projects/361807449633/locations/us-central1/endpoints/6262903993719062528]"
      ]
     },
     "execution_count": 149,
     "metadata": {},
     "output_type": "execute_result"
    }
   ],
   "source": [
    "aiplatform.Endpoint.list(filter=f'labels.notebook={NOTEBOOK}')"
   ]
  },
  {
   "cell_type": "code",
   "execution_count": 150,
   "id": "279cf479",
   "metadata": {
    "tags": []
   },
   "outputs": [
    {
     "data": {
      "text/plain": [
       "'02c_heart_20240626000834'"
      ]
     },
     "execution_count": 150,
     "metadata": {},
     "output_type": "execute_result"
    }
   ],
   "source": [
    "endpoint = aiplatform.Endpoint.list(filter=f'labels.notebook={NOTEBOOK}')[0]\n",
    "endpoint.display_name"
   ]
  },
  {
   "cell_type": "code",
   "execution_count": 151,
   "id": "c7c298d5",
   "metadata": {
    "tags": []
   },
   "outputs": [
    {
     "data": {
      "text/plain": [
       "{'classes': ['1', '0'], 'scores': [0.9910398125648499, 0.008960234932601452]}"
      ]
     },
     "execution_count": 151,
     "metadata": {},
     "output_type": "execute_result"
    }
   ],
   "source": [
    "prediction = endpoint.predict(instances = instances) # or instances = newobs\n",
    "prediction.predictions[0]"
   ]
  },
  {
   "cell_type": "code",
   "execution_count": 152,
   "id": "1323d595",
   "metadata": {
    "tags": []
   },
   "outputs": [
    {
     "data": {
      "text/plain": [
       "'1'"
      ]
     },
     "execution_count": 152,
     "metadata": {},
     "output_type": "execute_result"
    }
   ],
   "source": [
    "prediction.predictions[0]['classes'][np.argmax(prediction.predictions[0]['scores'])]"
   ]
  },
  {
   "cell_type": "markdown",
   "id": "f68781f2",
   "metadata": {},
   "source": [
    "### Get Predictions: REST"
   ]
  },
  {
   "cell_type": "code",
   "execution_count": 153,
   "id": "f6b3a5b9",
   "metadata": {
    "tags": []
   },
   "outputs": [],
   "source": [
    "with open(f'{DIR}/request.json','w') as file:\n",
    "    file.write(json.dumps({\"instances\": [newobs[0]]}))"
   ]
  },
  {
   "cell_type": "code",
   "execution_count": 154,
   "id": "6e7b1b91",
   "metadata": {
    "tags": []
   },
   "outputs": [
    {
     "name": "stdout",
     "output_type": "stream",
     "text": [
      "{\n",
      "  \"predictions\": [\n",
      "    {\n",
      "      \"classes\": [\n",
      "        \"1\",\n",
      "        \"0\"\n",
      "      ],\n",
      "      \"scores\": [\n",
      "        0.99103981256484985,\n",
      "        0.0089602349326014519\n",
      "      ]\n",
      "    }\n",
      "  ],\n",
      "  \"deployedModelId\": \"513376272659775488\",\n",
      "  \"model\": \"projects/361807449633/locations/us-central1/models/5660542046000119808\",\n",
      "  \"modelDisplayName\": \"02c_heart_20240626000834\",\n",
      "  \"modelVersionId\": \"1\"\n",
      "}\n"
     ]
    }
   ],
   "source": [
    "!curl -X POST \\\n",
    "-H \"Authorization: Bearer \"$(gcloud auth application-default print-access-token) \\\n",
    "-H \"Content-Type: application/json; charset=utf-8\" \\\n",
    "-d @{DIR}/request.json \\\n",
    "https://{REGION}-aiplatform.googleapis.com/v1/{endpoint.resource_name}:predict"
   ]
  },
  {
   "cell_type": "markdown",
   "id": "7b428c9d",
   "metadata": {},
   "source": [
    "### Get Predictions: gcloud (CLI)"
   ]
  },
  {
   "cell_type": "code",
   "execution_count": 155,
   "id": "d3523017",
   "metadata": {
    "tags": []
   },
   "outputs": [
    {
     "name": "stdout",
     "output_type": "stream",
     "text": [
      "Using endpoint [https://us-central1-prediction-aiplatform.googleapis.com/]\n",
      "[{'classes': ['1', '0'], 'scores': [0.9910398125648499, 0.008960234932601452]}]\n"
     ]
    }
   ],
   "source": [
    "!gcloud beta ai endpoints predict {endpoint.name.rsplit('/',1)[-1]} --region={REGION} --json-request={DIR}/request.json"
   ]
  },
  {
   "cell_type": "markdown",
   "id": "3d0d825b",
   "metadata": {},
   "source": [
    "---\n",
    "## Explanations\n",
    "Interpretation Guide\n",
    "- https://cloud.google.com/vertex-ai/docs/predictions/interpreting-results-automl#tabular"
   ]
  },
  {
   "cell_type": "code",
   "execution_count": 156,
   "id": "80280fc8",
   "metadata": {
    "tags": []
   },
   "outputs": [],
   "source": [
    "explanation = endpoint.explain(instances = instances)"
   ]
  },
  {
   "cell_type": "code",
   "execution_count": 157,
   "id": "6b2a6912",
   "metadata": {
    "tags": []
   },
   "outputs": [
    {
     "data": {
      "text/plain": [
       "{'classes': ['1', '0'], 'scores': [0.9910398125648499, 0.008960234932601452]}"
      ]
     },
     "execution_count": 157,
     "metadata": {},
     "output_type": "execute_result"
    }
   ],
   "source": [
    "explanation.predictions[0]"
   ]
  },
  {
   "cell_type": "code",
   "execution_count": 158,
   "id": "a862b22a",
   "metadata": {
    "tags": []
   },
   "outputs": [
    {
     "name": "stdout",
     "output_type": "stream",
     "text": [
      "attribution:\n",
      "baseline output 0.8618397116661072\n",
      "instance output 0.9910398125648499\n",
      "output_index [0]\n",
      "output display value 1\n",
      "approximation error 0.004171536581263382\n"
     ]
    }
   ],
   "source": [
    "print(\"attribution:\")\n",
    "print(\"baseline output\",explanation.explanations[0].attributions[0].baseline_output_value)\n",
    "print(\"instance output\",explanation.explanations[0].attributions[0].instance_output_value)\n",
    "print(\"output_index\",explanation.explanations[0].attributions[0].output_index)\n",
    "print(\"output display value\",explanation.explanations[0].attributions[0].output_display_name)\n",
    "print(\"approximation error\",explanation.explanations[0].attributions[0].approximation_error)"
   ]
  },
  {
   "cell_type": "code",
   "execution_count": 159,
   "id": "6afdc889-9620-4e5c-adf9-5ecf2238ad75",
   "metadata": {
    "tags": []
   },
   "outputs": [
    {
     "data": {
      "image/png": "[encoded data removed]",
      "text/plain": [
       "<Figure size 900x900 with 1 Axes>"
      ]
     },
     "metadata": {},
     "output_type": "display_data"
    }
   ],
   "source": [
    "import matplotlib.pyplot as plt\n",
    "features = []\n",
    "scores = []\n",
    "for k in explanation.explanations[0].attributions[0].feature_attributions:\n",
    "    features.append(k)\n",
    "    scores.append(explanation.explanations[0].attributions[0].feature_attributions[k])\n",
    "features = [x for _, x in sorted(zip(scores, features))]\n",
    "scores = sorted(scores)\n",
    "fig, ax = plt.subplots()\n",
    "fig.set_size_inches(9, 9)\n",
    "ax.barh(features, scores)\n",
    "fig.show()"
   ]
  },
  {
   "cell_type": "markdown",
   "id": "1a12e906",
   "metadata": {},
   "source": [
    "---\n",
    "## Batch Predictions: BigQuery Source to BigQuery Destination, with Explanations"
   ]
  },
  {
   "cell_type": "code",
   "execution_count": null,
   "id": "7145bae3",
   "metadata": {
    "tags": []
   },
   "outputs": [
    {
     "name": "stdout",
     "output_type": "stream",
     "text": [
      "Creating BatchPredictionJob\n",
      "BatchPredictionJob created. Resource name: projects/361807449633/locations/us-central1/batchPredictionJobs/5080101233402839040\n",
      "To use this BatchPredictionJob in another session:\n",
      "bpj = aiplatform.BatchPredictionJob('projects/361807449633/locations/us-central1/batchPredictionJobs/5080101233402839040')\n",
      "View Batch Prediction Job:\n",
      "https://console.cloud.google.com/ai/platform/locations/us-central1/batch-predictions/5080101233402839040?project=361807449633\n",
      "BatchPredictionJob projects/361807449633/locations/us-central1/batchPredictionJobs/5080101233402839040 current state:\n",
      "JobState.JOB_STATE_PENDING\n",
      "BatchPredictionJob projects/361807449633/locations/us-central1/batchPredictionJobs/5080101233402839040 current state:\n",
      "JobState.JOB_STATE_PENDING\n",
      "BatchPredictionJob projects/361807449633/locations/us-central1/batchPredictionJobs/5080101233402839040 current state:\n",
      "JobState.JOB_STATE_PENDING\n",
      "BatchPredictionJob projects/361807449633/locations/us-central1/batchPredictionJobs/5080101233402839040 current state:\n",
      "JobState.JOB_STATE_PENDING\n",
      "BatchPredictionJob projects/361807449633/locations/us-central1/batchPredictionJobs/5080101233402839040 current state:\n",
      "JobState.JOB_STATE_PENDING\n"
     ]
    }
   ],
   "source": [
    "batch = aiplatform.BatchPredictionJob.create(\n",
    "    job_display_name = f'{NOTEBOOK}_{DATANAME}_{TIMESTAMP}',\n",
    "    model_name = endpoint.list_models()[0].model,\n",
    "    instances_format = \"bigquery\",\n",
    "    predictions_format = \"bigquery\",\n",
    "    bigquery_source = f'bq://{PROJECT_ID}.{DATANAME}.{DATANAME}_prepped',\n",
    "    bigquery_destination_prefix = f\"{PROJECT_ID}\",\n",
    "    generate_explanation=True,\n",
    "    labels = {'notebook':f'{NOTEBOOK}'}\n",
    ")"
   ]
  },
  {
   "cell_type": "markdown",
   "id": "4022b5bd",
   "metadata": {},
   "source": [
    "---\n",
    "## Remove Resources\n",
    "see notebook \"99 - Cleanup\""
   ]
  }
 ],
 "metadata": {
  "environment": {
   "kernel": "python3",
   "name": "tf2-gpu.2-15.m122",
   "type": "gcloud",
   "uri": "us-docker.pkg.dev/deeplearning-platform-release/gcr.io/tf2-gpu.2-15:m122"
  },
  "kernelspec": {
   "display_name": "Python 3 (Local)",
   "language": "python",
   "name": "python3"
  },
  "language_info": {
   "codemirror_mode": {
    "name": "ipython",
    "version": 3
   },
   "file_extension": ".py",
   "mimetype": "text/x-python",
   "name": "python",
   "nbconvert_exporter": "python",
   "pygments_lexer": "ipython3",
   "version": "3.10.14"
  }
 },
 "nbformat": 4,
 "nbformat_minor": 5
}
